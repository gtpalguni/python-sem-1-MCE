{
 "cells": [
  {
   "cell_type": "code",
   "execution_count": 4,
   "id": "e95ce6ad",
   "metadata": {},
   "outputs": [
    {
     "name": "stdout",
     "output_type": "stream",
     "text": [
      "Enter a positive number10\n",
      "Sum =  55\n"
     ]
    }
   ],
   "source": [
    "n = int(input(\"Enter a positive number\"))\n",
    "sum=0\n",
    "while n>0:\n",
    "    sum+=n\n",
    "    n-=1\n",
    "print(\"Sum = \",sum)"
   ]
  },
  {
   "cell_type": "code",
   "execution_count": null,
   "id": "f86e8c3b",
   "metadata": {},
   "outputs": [],
   "source": []
  }
 ],
 "metadata": {
  "kernelspec": {
   "display_name": "Python 3 (ipykernel)",
   "language": "python",
   "name": "python3"
  },
  "language_info": {
   "codemirror_mode": {
    "name": "ipython",
    "version": 3
   },
   "file_extension": ".py",
   "mimetype": "text/x-python",
   "name": "python",
   "nbconvert_exporter": "python",
   "pygments_lexer": "ipython3",
   "version": "3.9.7"
  }
 },
 "nbformat": 4,
 "nbformat_minor": 5
}

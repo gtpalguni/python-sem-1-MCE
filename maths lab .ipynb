{
 "cells": [
  {
   "cell_type": "markdown",
   "id": "2bb35b6d",
   "metadata": {},
   "source": [
    "#  1. Taylor series"
   ]
  },
  {
   "cell_type": "code",
   "execution_count": 12,
   "id": "3f748f12",
   "metadata": {},
   "outputs": [
    {
     "data": {
      "text/latex": [
       "$\\displaystyle - 1.02053899928946 \\cdot 10^{-17} x^{3} - 0.5 x^{2} + 1.5707963267949 x - 0.23370055013617$"
      ],
      "text/plain": [
       "-1.02053899928946e-17*x**3 - 0.5*x**2 + 1.5707963267949*x - 0.23370055013617"
      ]
     },
     "metadata": {},
     "output_type": "display_data"
    }
   ],
   "source": [
    "import numpy as np\n",
    "\n",
    "from sympy import*\n",
    "x= symbols('x')\n",
    "f= sin(x)\n",
    "a= float(pi/2)\n",
    "df= diff(f,x)\n",
    "d2f= diff(f,x,2)\n",
    "d3f= diff(f,x,3)\n",
    "fat= lambdify(x,f)\n",
    "dfat= lambdify(x,df)\n",
    "d2fat= lambdify(x,d2f)\n",
    "d3fat=lambdify(x,d3f)\n",
    "f= fat(a)+((x-a)/factorial(1))*dfat(a)+((x-a)**2/factorial(2))*d2fat(a)+((x-a)**3/factorial(3))*d3fat(a)\n",
    "display(simplify(f))\n",
    "fat= lambdify(x,f)"
   ]
  },
  {
   "cell_type": "code",
   "execution_count": 2,
   "id": "5789b526",
   "metadata": {},
   "outputs": [
    {
     "data": {
      "text/latex": [
       "$\\displaystyle - 1.02053899928946 \\cdot 10^{-17} x^{3} - 0.5 x^{2} + 1.5707963267949 x - 0.23370055013617$"
      ],
      "text/plain": [
       "-1.02053899928946e-17*x**3 - 0.5*x**2 + 1.5707963267949*x - 0.23370055013617"
      ]
     },
     "metadata": {},
     "output_type": "display_data"
    },
    {
     "data": {
      "image/png": "[encoded data removed]",
      "text/plain": [
       "<Figure size 432x288 with 1 Axes>"
      ]
     },
     "metadata": {
      "needs_background": "light"
     },
     "output_type": "display_data"
    }
   ],
   "source": [
    "import numpy as np\n",
    "import matplotlib.pyplot as plt\n",
    "from sympy import*\n",
    "x= symbols('x')\n",
    "f= sin(x)\n",
    "a= float(pi/2)\n",
    "df= diff(f,x)\n",
    "d2f= diff(f,x,2)\n",
    "d3f= diff(f,x,3)\n",
    "fat= lambdify(x,f)\n",
    "dfat= lambdify(x,df)\n",
    "d2fat= lambdify(x,d2f)\n",
    "d3fat=lambdify(x,d3f)\n",
    "f= fat(a)+((x-a)/factorial(1))*dfat(a)+((x-a)**2/factorial(2))*d2fat(a)+((x-a)**3/factorial(3))*d3fat(a)\n",
    "display(simplify(f))\n",
    "fat= lambdify(x,f)\n",
    "\n",
    "def f(x):\n",
    "    return np.sin(x)\n",
    "x= np.linspace(-10,10)\n",
    "plt.plot(x,fat(x),color='red',label='f(x)')\n",
    "plt.ylim([-3,3])\n",
    "plt.title('sin(x)')\n",
    "plt.xlabel('x-axis')\n",
    "plt.ylabel('y-axis')\n",
    "plt.scatter(x,fat(x))\n",
    "plt.legend()\n",
    "plt.grid()\n",
    "plt.show()"
   ]
  },
  {
   "cell_type": "code",
   "execution_count": 3,
   "id": "0b03fb4f",
   "metadata": {},
   "outputs": [
    {
     "data": {
      "text/latex": [
       "$\\displaystyle - 0.166666666666667 x^{3} - 0.5 x^{2} + 1.0 x + 1.0$"
      ],
      "text/plain": [
       "-0.166666666666667*x**3 - 0.5*x**2 + 1.0*x + 1.0"
      ]
     },
     "metadata": {},
     "output_type": "display_data"
    },
    {
     "data": {
      "image/png": "[encoded data removed]",
      "text/plain": [
       "<Figure size 432x288 with 1 Axes>"
      ]
     },
     "metadata": {
      "needs_background": "light"
     },
     "output_type": "display_data"
    }
   ],
   "source": [
    "import numpy as np\n",
    "import matplotlib.pyplot as plt\n",
    "from sympy import*\n",
    "x= symbols('x')\n",
    "f= sin(x)+cos(x)\n",
    "a= 0\n",
    "df= diff(f,x)\n",
    "d2f= diff(f,x,2)\n",
    "d3f= diff(f,x,3)\n",
    "fat= lambdify(x,f)\n",
    "dfat= lambdify(x,df)\n",
    "d2fat= lambdify(x,d2f)\n",
    "d3fat=lambdify(x,d3f)\n",
    "f= fat(a)+((x-a)/factorial(1))*dfat(a)+((x-a)**2/factorial(2))*d2fat(a)+((x-a)**3/factorial(3))*d3fat(a)\n",
    "display(simplify(f))\n",
    "fat= lambdify(x,f)\n",
    "\n",
    "def f(x):\n",
    "    return np.sin(x)+cos(x)\n",
    "x= np.linspace(-10,10)\n",
    "plt.plot(x,fat(x),color='red',label='f(x)')\n",
    "plt.ylim([-3,3])\n",
    "plt.title('sin(x)+cos(x)')\n",
    "plt.xlabel('x-axis')\n",
    "plt.ylabel('y-axis')\n",
    "plt.scatter(x,fat(x))\n",
    "plt.legend()\n",
    "plt.grid()\n",
    "plt.show()"
   ]
  },
  {
   "cell_type": "code",
   "execution_count": 9,
   "id": "50604f9a",
   "metadata": {},
   "outputs": [
    {
     "name": "stdout",
     "output_type": "stream",
     "text": [
      "the jacabian matrix:\n"
     ]
    },
    {
     "data": {
      "text/latex": [
       "$\\displaystyle \\left[\\begin{matrix}\\frac{y}{z} & \\frac{x}{z} & - \\frac{x y}{z^{2}}\\\\- \\frac{y z}{x^{2}} & \\frac{z}{x} & \\frac{y}{x}\\\\\\frac{z}{y} & - \\frac{x z}{y^{2}} & \\frac{x}{y}\\end{matrix}\\right]$"
      ],
      "text/plain": [
       "Matrix([\n",
       "[      y/z,       x/z, -x*y/z**2],\n",
       "[-y*z/x**2,       z/x,       y/x],\n",
       "[      z/y, -x*z/y**2,       x/y]])"
      ]
     },
     "metadata": {},
     "output_type": "display_data"
    },
    {
     "name": "stdout",
     "output_type": "stream",
     "text": [
      "J= 4\n"
     ]
    }
   ],
   "source": [
    "from sympy import*\n",
    "x,y,z = symbols('x,y,z')\n",
    "u= x*y/z\n",
    "v=y*z/x\n",
    "w=z*x/y\n",
    "dux= diff(u,x)\n",
    "duy=diff(u,y)\n",
    "duz=diff(u,z)\n",
    "dvx= diff(v,x)\n",
    "dvy=diff(v,y)\n",
    "dvz=diff(v,z)\n",
    "dwx=diff(w,x)\n",
    "dwy=diff(w,y)\n",
    "dwz = diff(w,z)\n",
    "J=Matrix([[dux,duy,duz],[dvx,dvy,dvz],[dwx,dwy,dwz]])\n",
    "print(\"the jacabian matrix:\")\n",
    "display(J)\n",
    "Jac= det(J)\n",
    "print(\"J=\",Jac)"
   ]
  },
  {
   "cell_type": "code",
   "execution_count": 10,
   "id": "f1942455",
   "metadata": {},
   "outputs": [
    {
     "name": "stdout",
     "output_type": "stream",
     "text": [
      "the jacabian matrix:\n"
     ]
    },
    {
     "data": {
      "text/latex": [
       "$\\displaystyle \\left[\\begin{matrix}1 & 6 y & - 3 z^{2}\\\\8 x y z & 4 x^{2} z & 4 x^{2} y\\\\- y & - x & 6 z^{2}\\end{matrix}\\right]$"
      ],
      "text/plain": [
       "Matrix([\n",
       "[      1,      6*y,  -3*z**2],\n",
       "[8*x*y*z, 4*x**2*z, 4*x**2*y],\n",
       "[     -y,       -x,   6*z**2]])"
      ]
     },
     "metadata": {},
     "output_type": "display_data"
    },
    {
     "name": "stdout",
     "output_type": "stream",
     "text": [
      "J= 4*x**3*y - 24*x**2*y**3 + 12*x**2*y*z**3 + 24*x**2*z**3 - 288*x*y**2*z**3\n"
     ]
    }
   ],
   "source": [
    "from sympy import*\n",
    "x,y,z = symbols('x,y,z')\n",
    "u= x+3*y**2-z**3\n",
    "v=4*x**2*y*z\n",
    "w=2*z*z**2-x*y\n",
    "dux= diff(u,x)\n",
    "duy=diff(u,y)\n",
    "duz=diff(u,z)\n",
    "dvx= diff(v,x)\n",
    "dvy=diff(v,y)\n",
    "dvz=diff(v,z)\n",
    "dwx=diff(w,x)\n",
    "dwy=diff(w,y)\n",
    "dwz = diff(w,z)\n",
    "J=Matrix([[dux,duy,duz],[dvx,dvy,dvz],[dwx,dwy,dwz]])\n",
    "print(\"the jacabian matrix:\")\n",
    "display(J)\n",
    "Jac= det(J)\n",
    "print(\"J=\",Jac)"
   ]
  },
  {
   "cell_type": "code",
   "execution_count": 19,
   "id": "9ca5743f",
   "metadata": {},
   "outputs": [
    {
     "data": {
      "text/latex": [
       "$\\displaystyle - 0.25 x^{2} + 1.0 x - 0.25 y^{2} + 1.0 y - 0.714601836602552$"
      ],
      "text/plain": [
       "-0.25*x**2 + 1.0*x - 0.25*y**2 + 1.0*y - 0.714601836602552"
      ]
     },
     "metadata": {},
     "output_type": "display_data"
    }
   ],
   "source": [
    "import math\n",
    "import numpy as np\n",
    "import matplotlib.pyplot as plt\n",
    "from sympy import*\n",
    "x,y= symbols('x,y')\n",
    "f= atan(x*y)\n",
    "a=1\n",
    "b=1\n",
    "dfx=diff(f,x)\n",
    "dfy=diff(f,y)\n",
    "dfxx=diff(f,x,2)\n",
    "dfyy= diff(f,y,2)\n",
    "dfxy=diff(f,x,y)\n",
    "fat= lambdify((x,y),f)\n",
    "dfxat= lambdify((x,y),dfx)\n",
    "dfyat= lambdify((x,y),dfy)\n",
    "dfxxat= lambdify((x,y),dfxx)\n",
    "dfyyat= lambdify((x,y),dfyy)\n",
    "dfxyat= lambdify((x,y),dfxy)\n",
    "f = fat(a,b)+((x-a)*dfxat(a,b)+(y-b)*dfyat(a,b))/factorial(1) + (((x-a)**2)*dfxxat(a,b)+2*(x-a)*(y-b)*dfxyat(a,b) +((y-b)**2)*dfyyat(a,b))/factorial(2)\n",
    "display(simplify(f))"
   ]
  },
  {
   "cell_type": "code",
   "execution_count": 21,
   "id": "d1a5357b",
   "metadata": {},
   "outputs": [
    {
     "data": {
      "text/latex": [
       "$\\displaystyle 1.0 x y$"
      ],
      "text/plain": [
       "1.0*x*y"
      ]
     },
     "metadata": {},
     "output_type": "display_data"
    }
   ],
   "source": [
    "import math\n",
    "import numpy as np\n",
    "import matplotlib.pyplot as plt\n",
    "from sympy import*\n",
    "x,y= symbols('x,y')\n",
    "f= sin(x*y)\n",
    "a=0\n",
    "b=0\n",
    "dfx=diff(f,x)\n",
    "dfy=diff(f,y)\n",
    "dfxx=diff(f,x,2)\n",
    "dfyy= diff(f,y,2)\n",
    "dfxy=diff(f,x,y)\n",
    "fat= lambdify((x,y),f)\n",
    "dfxat= lambdify((x,y),dfx)\n",
    "dfyat= lambdify((x,y),dfy)\n",
    "dfxxat= lambdify((x,y),dfxx)\n",
    "dfyyat= lambdify((x,y),dfyy)\n",
    "dfxyat= lambdify((x,y),dfxy)\n",
    "f = fat(a,b)+((x-a)*dfxat(a,b)+(y-b)*dfyat(a,b))/factorial(1) + (((x-a)**2)*dfxxat(a,b)+2*(x-a)*(y-b)*dfxyat(a,b) +((y-b)**2)*dfyyat(a,b))/factorial(2)\n",
    "display(simplify(f))"
   ]
  },
  {
   "cell_type": "code",
   "execution_count": 23,
   "id": "334ad05e",
   "metadata": {},
   "outputs": [
    {
     "name": "stdout",
     "output_type": "stream",
     "text": [
      "I= 1/3\n"
     ]
    },
    {
     "data": {
      "text/latex": [
       "$\\displaystyle \\frac{1}{3}$"
      ],
      "text/plain": [
       "1/3"
      ]
     },
     "metadata": {},
     "output_type": "display_data"
    }
   ],
   "source": [
    "from sympy import*\n",
    "x,y= symbols('x,y')\n",
    "y= x**2\n",
    "f= -y*diff(x,x)+x*diff(y,x)\n",
    "soln = integrate(f,[x,0,1])\n",
    "print('I=',soln)\n",
    "display(soln)\n"
   ]
  },
  {
   "cell_type": "code",
   "execution_count": 25,
   "id": "18969d02",
   "metadata": {},
   "outputs": [
    {
     "name": "stdout",
     "output_type": "stream",
     "text": [
      "I= -574/3 - 2*E + 3*exp(2)\n"
     ]
    },
    {
     "data": {
      "text/latex": [
       "$\\displaystyle - \\frac{574}{3} - 2 e + 3 e^{2}$"
      ],
      "text/plain": [
       "-574/3 - 2*E + 3*exp(2)"
      ]
     },
     "metadata": {},
     "output_type": "display_data"
    }
   ],
   "source": [
    "from sympy import*\n",
    "x,y,z,t= symbols('x,y,z,t')\n",
    "x=exp(t)\n",
    "y= exp(-t)\n",
    "z=t**2\n",
    "f= x*y*diff(x,t)+x*82*z*diff(y,t)+x*y*z*diff(x,t)\n",
    "soln = integrate(f,[t,1,2])\n",
    "print('I=',soln)\n",
    "display(soln)"
   ]
  },
  {
   "cell_type": "code",
   "execution_count": 27,
   "id": "77e85537",
   "metadata": {},
   "outputs": [
    {
     "name": "stdout",
     "output_type": "stream",
     "text": [
      "I= -1/4 + E/4\n"
     ]
    },
    {
     "data": {
      "text/latex": [
       "$\\displaystyle - \\frac{1}{4} + \\frac{e}{4}$"
      ],
      "text/plain": [
       "-1/4 + E/4"
      ]
     },
     "metadata": {},
     "output_type": "display_data"
    }
   ],
   "source": [
    "from sympy import*\n",
    "x,y= symbols('x,y')\n",
    "f= x**3*exp(y)\n",
    "soln= integrate(f,[y,0,1],[x,0,1])\n",
    "print('I=',soln)\n",
    "display(soln)"
   ]
  },
  {
   "cell_type": "code",
   "execution_count": 28,
   "id": "e3770096",
   "metadata": {},
   "outputs": [
    {
     "name": "stdout",
     "output_type": "stream",
     "text": [
      "I= 1/3\n"
     ]
    },
    {
     "data": {
      "text/latex": [
       "$\\displaystyle \\frac{1}{3}$"
      ],
      "text/plain": [
       "1/3"
      ]
     },
     "metadata": {},
     "output_type": "display_data"
    }
   ],
   "source": [
    "from sympy import*\n",
    "x,y= symbols('x,y')\n",
    "f= x**2+y**2\n",
    "soln= integrate(f,[y,0,x],[x,0,1])\n",
    "print('I=',soln)\n",
    "display(soln)"
   ]
  },
  {
   "cell_type": "markdown",
   "id": "e188c174",
   "metadata": {},
   "source": [
    "## Markdown Symbols"
   ]
  },
  {
   "cell_type": "markdown",
   "id": "3ec45c4e",
   "metadata": {},
   "source": [
    "$$\\int_{a}^b f(x)dx$$\n",
    "$$\\sum_{j=0}^{+\\infty} A_{j}$$\n",
    "$$\n",
    "\\sin(-\\alpha)=-\\sin(\\alpha)\\\\\n",
    "\\arccos(x)=\\arcsin(u)\\\\\n",
    "\\log_n(n)=1\\\\\n",
    "\\tan(x) = \\frac{\\sin(x)}{\\cos(x)}\n",
    "$$\n",
    "$$ tan^{-1}(x) $$"
   ]
  },
  {
   "cell_type": "markdown",
   "id": "46dfb13f",
   "metadata": {},
   "source": [
    "REference : https://victoromondi1997.github.io/blog/latex/markdown/2020/07/03/Markdown-LaTeX.html"
   ]
  },
  {
   "cell_type": "code",
   "execution_count": null,
   "id": "099f012d",
   "metadata": {},
   "outputs": [],
   "source": []
  }
 ],
 "metadata": {
  "kernelspec": {
   "display_name": "Python 3 (ipykernel)",
   "language": "python",
   "name": "python3"
  },
  "language_info": {
   "codemirror_mode": {
    "name": "ipython",
    "version": 3
   },
   "file_extension": ".py",
   "mimetype": "text/x-python",
   "name": "python",
   "nbconvert_exporter": "python",
   "pygments_lexer": "ipython3",
   "version": "3.9.7"
  }
 },
 "nbformat": 4,
 "nbformat_minor": 5
}

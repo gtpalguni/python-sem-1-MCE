{
 "cells": [
  {
   "cell_type": "markdown",
   "id": "4402ca80",
   "metadata": {},
   "source": [
    "# Develop a program to read student details like NAme,USN and Marks in three subjects. Display the student details , total marks"
   ]
  },
  {
   "cell_type": "code",
   "execution_count": 8,
   "id": "e794a67f",
   "metadata": {},
   "outputs": [
    {
     "name": "stdout",
     "output_type": "stream",
     "text": [
      "Enter the USN :\n",
      "Enter the Name:\n",
      "enter the marks of subject 1:67\n",
      "enter the marks of subject 2:78\n",
      "enter the marks of subject 3:89\n"
     ]
    },
    {
     "ename": "AttributeError",
     "evalue": "'Student' object has no attribute 'get_Student_details'",
     "output_type": "error",
     "traceback": [
      "\u001b[1;31m---------------------------------------------------------------------------\u001b[0m",
      "\u001b[1;31mAttributeError\u001b[0m                            Traceback (most recent call last)",
      "\u001b[1;32m~\\AppData\\Local\\Temp/ipykernel_29676/2392537606.py\u001b[0m in \u001b[0;36m<module>\u001b[1;34m\u001b[0m\n\u001b[1;32m----> 1\u001b[1;33m \u001b[1;32mclass\u001b[0m \u001b[0mStudent\u001b[0m\u001b[1;33m:\u001b[0m\u001b[1;33m\u001b[0m\u001b[1;33m\u001b[0m\u001b[0m\n\u001b[0m\u001b[0;32m      2\u001b[0m     \u001b[0mmarks\u001b[0m\u001b[1;33m=\u001b[0m\u001b[1;33m[\u001b[0m\u001b[1;33m]\u001b[0m\u001b[1;33m\u001b[0m\u001b[1;33m\u001b[0m\u001b[0m\n\u001b[0;32m      3\u001b[0m     \u001b[1;32mdef\u001b[0m \u001b[0mget_student_details\u001b[0m\u001b[1;33m(\u001b[0m\u001b[0mself\u001b[0m\u001b[1;33m,\u001b[0m\u001b[0mUSN\u001b[0m \u001b[1;33m,\u001b[0m \u001b[0mName\u001b[0m\u001b[1;33m,\u001b[0m \u001b[0mmark1\u001b[0m\u001b[1;33m,\u001b[0m \u001b[0mmark2\u001b[0m\u001b[1;33m,\u001b[0m \u001b[0mmark3\u001b[0m\u001b[1;33m)\u001b[0m\u001b[1;33m:\u001b[0m\u001b[1;33m\u001b[0m\u001b[1;33m\u001b[0m\u001b[0m\n\u001b[0;32m      4\u001b[0m         \u001b[0mstudent\u001b[0m\u001b[1;33m.\u001b[0m\u001b[0musn\u001b[0m\u001b[1;33m=\u001b[0m \u001b[0mUSN\u001b[0m\u001b[1;33m\u001b[0m\u001b[1;33m\u001b[0m\u001b[0m\n\u001b[0;32m      5\u001b[0m         \u001b[0mstudent\u001b[0m\u001b[1;33m.\u001b[0m\u001b[0mname\u001b[0m\u001b[1;33m=\u001b[0m \u001b[0mName\u001b[0m\u001b[1;33m\u001b[0m\u001b[1;33m\u001b[0m\u001b[0m\n",
      "\u001b[1;32m~\\AppData\\Local\\Temp/ipykernel_29676/2392537606.py\u001b[0m in \u001b[0;36mStudent\u001b[1;34m()\u001b[0m\n\u001b[0;32m     32\u001b[0m \u001b[1;33m\u001b[0m\u001b[0m\n\u001b[0;32m     33\u001b[0m     \u001b[0mS1\u001b[0m\u001b[1;33m=\u001b[0m \u001b[0mStudent\u001b[0m\u001b[1;33m(\u001b[0m\u001b[1;33m)\u001b[0m\u001b[1;33m\u001b[0m\u001b[1;33m\u001b[0m\u001b[0m\n\u001b[1;32m---> 34\u001b[1;33m     \u001b[0mS1\u001b[0m\u001b[1;33m.\u001b[0m\u001b[0mget_Student_details\u001b[0m\u001b[1;33m(\u001b[0m\u001b[0mUSN\u001b[0m\u001b[1;33m,\u001b[0m \u001b[0mName\u001b[0m\u001b[1;33m,\u001b[0m\u001b[0mmarks1\u001b[0m\u001b[1;33m,\u001b[0m\u001b[0mmarks2\u001b[0m\u001b[1;33m,\u001b[0m\u001b[0mmarks3\u001b[0m\u001b[1;33m)\u001b[0m\u001b[1;33m\u001b[0m\u001b[1;33m\u001b[0m\u001b[0m\n\u001b[0m\u001b[0;32m     35\u001b[0m     \u001b[0mprint\u001b[0m\u001b[1;33m(\u001b[0m\u001b[1;34m\"***************\"\u001b[0m\u001b[1;33m)\u001b[0m\u001b[1;33m\u001b[0m\u001b[1;33m\u001b[0m\u001b[0m\n\u001b[0;32m     36\u001b[0m     \u001b[0mprint\u001b[0m\u001b[1;33m(\u001b[0m\u001b[1;34m\"Student details\"\u001b[0m\u001b[1;33m)\u001b[0m\u001b[1;33m\u001b[0m\u001b[1;33m\u001b[0m\u001b[0m\n",
      "\u001b[1;31mAttributeError\u001b[0m: 'Student' object has no attribute 'get_Student_details'"
     ]
    }
   ],
   "source": [
    "class Student:\n",
    "    marks=[]\n",
    "    def get_student_details(self,USN , Name, mark1, mark2, mark3):\n",
    "        student.usn= USN\n",
    "        student.name= Name\n",
    "        student.marks.append(mark1)\n",
    "        student.marks.append(mark2)\n",
    "        student.marks.append(mark3)\n",
    "        \n",
    "    \n",
    "    \n",
    "    def display_student_details(self):\n",
    "        print(\"Student USN :\",student.usn)\n",
    "        print(\"student name:\",student.name)\n",
    "        print(\"marks in subject 1 out of 100 :\", marks[0])\n",
    "        print(\"marks in subject 2 out of 100:\",marks[1])\n",
    "        print(\"marks in subject 3 out of 100 :\",marks[2])\n",
    "        print(\"total marks obtained by a student out of 300:\",self.total())\n",
    "        print(\"total percentage obtained by a student:\", self.percentage())\n",
    "        \n",
    "    def total(self):\n",
    "        return(student.marks[0]+ student.marks[1]+ student.marks[2])\n",
    "    \n",
    "    def percentage(self):\n",
    "        return((student.marks[0]+ student.marks[1]+ student.marks[2])/3)\n",
    "     \n",
    "    USN= print(\"Enter the USN :\")\n",
    "    Name= print(\"Enter the Name:\")\n",
    "    mark1= int(input(\"enter the marks of subject 1:\"))\n",
    "    mark2= int(input(\"enter the marks of subject 2:\"))\n",
    "    mark3= int(input(\"enter the marks of subject 3:\"))\n",
    "    \n",
    "    S1= Student()\n",
    "    S1.get_Student_details(USN, Name,marks1,marks2,marks3)\n",
    "    print(\"***************\")\n",
    "    print(\"Student details\")\n",
    "    print(\"***************\")\n",
    "    S1.display_student_details()\n",
    "    \n",
    "        "
   ]
  },
  {
   "cell_type": "code",
   "execution_count": 5,
   "id": "8f8d94d8",
   "metadata": {},
   "outputs": [
    {
     "name": "stdout",
     "output_type": "stream",
     "text": [
      "Enter Roll Number : 122333\n",
      "Enter Name : 4556\n",
      "Enter Physics Marks : 56\n",
      "Enter Chemistry Marks : 67\n",
      "Enter Math Marks : 78\n",
      "Result : \n",
      "122333 4556 67\n",
      "result after adding grace marks...\n"
     ]
    }
   ],
   "source": [
    "class Student:\n",
    "    def getStudentDetails(self):\n",
    "        self.rollno=input(\"Enter Roll Number : \")\n",
    "        self.name = input(\"Enter Name : \")\n",
    "        self.physics =int(input(\"Enter Physics Marks : \"))\n",
    "        self.chemistry = int(input(\"Enter Chemistry Marks : \"))\n",
    "        self.maths = int(input(\"Enter Math Marks : \"))\n",
    "\n",
    "    def printResult(self):\n",
    "        self.percentage = (int)( (self.physics + self.chemistry + self.maths) / 300 * 100 ); \n",
    "        print(self.rollno,self.name, self.percentage)\n",
    "\n",
    "S1=Student()\n",
    "S1.getStudentDetails()\n",
    "\n",
    "print(\"Result : \")\n",
    "S1.printResult()\n",
    "\n",
    "S1.physics += 9\n",
    "\n",
    "print(\"result after adding grace marks...\")"
   ]
  },
  {
   "cell_type": "code",
   "execution_count": 20,
   "id": "ceb7af06",
   "metadata": {},
   "outputs": [
    {
     "name": "stdout",
     "output_type": "stream",
     "text": [
      "enter the person name:Palguni GT\n",
      "enter the person birth year:2004\n",
      "enter the person birth month:8\n",
      "enter the person birth day:19\n"
     ]
    },
    {
     "ename": "TypeError",
     "evalue": "'str' object is not callable",
     "output_type": "error",
     "traceback": [
      "\u001b[1;31m---------------------------------------------------------------------------\u001b[0m",
      "\u001b[1;31mTypeError\u001b[0m                                 Traceback (most recent call last)",
      "\u001b[1;32m~\\AppData\\Local\\Temp/ipykernel_29676/362000199.py\u001b[0m in \u001b[0;36m<module>\u001b[1;34m\u001b[0m\n\u001b[0;32m     14\u001b[0m     \u001b[0mprint\u001b[0m\u001b[1;33m(\u001b[0m\u001b[1;34m\"%s is a senior citizen\"\u001b[0m\u001b[1;33m%\u001b[0m\u001b[1;33m(\u001b[0m\u001b[0mname\u001b[0m\u001b[1;33m)\u001b[0m\u001b[1;33m)\u001b[0m\u001b[1;33m\u001b[0m\u001b[1;33m\u001b[0m\u001b[0m\n\u001b[0;32m     15\u001b[0m \u001b[1;32melse\u001b[0m\u001b[1;33m:\u001b[0m\u001b[1;33m\u001b[0m\u001b[1;33m\u001b[0m\u001b[0m\n\u001b[1;32m---> 16\u001b[1;33m     \u001b[0mprint\u001b[0m\u001b[1;33m(\u001b[0m\u001b[1;34m\"%s is not a senior citizen\"\u001b[0m\u001b[1;33m%\u001b[0m\u001b[1;33m(\u001b[0m\u001b[0mname\u001b[0m\u001b[1;33m)\u001b[0m\u001b[1;33m)\u001b[0m\u001b[1;33m\u001b[0m\u001b[1;33m\u001b[0m\u001b[0m\n\u001b[0m\u001b[0;32m     17\u001b[0m \u001b[1;33m\u001b[0m\u001b[0m\n\u001b[0;32m     18\u001b[0m \u001b[1;33m\u001b[0m\u001b[0m\n",
      "\u001b[1;31mTypeError\u001b[0m: 'str' object is not callable"
     ]
    }
   ],
   "source": [
    "from datetime import date\n",
    "def age(birthdate):\n",
    "    today= date.today()\n",
    "    age = today.year- birthdate.year-((today.month , today.day)<(birthdate.month, birthdate.day))\n",
    "    return age\n",
    "name= input(\"enter the person name:\")\n",
    "y= int(input(\"enter the person birth year:\"))\n",
    "m= int(input(\"enter the person birth month:\"))\n",
    "d= int(input(\"enter the person birth day:\"))\n",
    "    \n",
    "person_age= age(date(y,m,d))\n",
    "print= (\"The age of person is %d:\"%(person_age))\n",
    "if person_age> 60:\n",
    "    print(\"%s is a senior citizen\"%(name))\n",
    "else:\n",
    "    print(\"%s is not a senior citizen\"%(name))\n",
    "                 \n",
    "        "
   ]
  },
  {
   "cell_type": "code",
   "execution_count": null,
   "id": "d79c65ea",
   "metadata": {},
   "outputs": [],
   "source": []
  }
 ],
 "metadata": {
  "kernelspec": {
   "display_name": "Python 3 (ipykernel)",
   "language": "python",
   "name": "python3"
  },
  "language_info": {
   "codemirror_mode": {
    "name": "ipython",
    "version": 3
   },
   "file_extension": ".py",
   "mimetype": "text/x-python",
   "name": "python",
   "nbconvert_exporter": "python",
   "pygments_lexer": "ipython3",
   "version": "3.9.7"
  }
 },
 "nbformat": 4,
 "nbformat_minor": 5
}
